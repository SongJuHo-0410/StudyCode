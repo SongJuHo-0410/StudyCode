{
  "nbformat": 4,
  "nbformat_minor": 0,
  "metadata": {
    "colab": {
      "name": "Basic_sort (1).ipynb",
      "provenance": [],
      "collapsed_sections": []
    },
    "kernelspec": {
      "name": "python3",
      "display_name": "Python 3"
    }
  },
  "cells": [
    {
      "cell_type": "code",
      "metadata": {
        "id": "d3_B6MVW9DL5",
        "colab_type": "code",
        "colab": {}
      },
      "source": [
        "def selection_sort(array):\n",
        "  \n",
        "  for i in range(0, len(array)-1):\n",
        "    min = i\n",
        "    for j in range(i+1, len(array)):\n",
        "      if array[min] > array[j]:\n",
        "        min = j\n",
        "\n",
        "    temp = array[i]\n",
        "    array[i] = array[min]\n",
        "    array[min] = temp\n",
        "\n",
        "\n",
        "  \n",
        "  return array"
      ],
      "execution_count": 0,
      "outputs": []
    },
    {
      "cell_type": "code",
      "metadata": {
        "id": "2MIshbnC9r9w",
        "colab_type": "code",
        "colab": {}
      },
      "source": [
        "def bubble_sort(array):\n",
        "  \n",
        "    for i in range(0, len(array)-1):\n",
        "        for j in range(0, len(array)-i-1):\n",
        "          if array[j] > array[j+1]:\n",
        "      \n",
        "            temp = array[j]\n",
        "            array[j] = array[j+1]\n",
        "            array[j+1] = temp\n",
        "    \n",
        "    return array"
      ],
      "execution_count": 0,
      "outputs": []
    },
    {
      "cell_type": "code",
      "metadata": {
        "id": "qi0Sf_Nb9sHP",
        "colab_type": "code",
        "colab": {}
      },
      "source": [
        "def insertion_sort(array):\n",
        "    for i in range(1, len(array)):\n",
        "        newMember = array[i]\n",
        "        tailIndex = i\n",
        "        while tailIndex > 0 and array[tailIndex-1] > newMember:\n",
        "            array[tailIndex] = array[tailIndex-1]\n",
        "            tailIndex = tailIndex-1\n",
        "        array[tailIndex] = newMember\n",
        "  \n",
        "    return array"
      ],
      "execution_count": 0,
      "outputs": []
    },
    {
      "cell_type": "code",
      "metadata": {
        "id": "3YnVfmgn92QQ",
        "colab_type": "code",
        "colab": {}
      },
      "source": [
        "unordered = [64, 25, 22, 12, 11]"
      ],
      "execution_count": 0,
      "outputs": []
    },
    {
      "cell_type": "code",
      "metadata": {
        "id": "LcE8tQTp9MZe",
        "colab_type": "code",
        "outputId": "9a8d60b5-cbec-47cd-e122-fc9255969a70",
        "colab": {
          "base_uri": "https://localhost:8080/",
          "height": 53
        }
      },
      "source": [
        "ordered = selection_sort(unordered.copy())\n",
        "print(unordered)\n",
        "ordered\n"
      ],
      "execution_count": 275,
      "outputs": [
        {
          "output_type": "stream",
          "text": [
            "[64, 25, 22, 12, 11]\n"
          ],
          "name": "stdout"
        },
        {
          "output_type": "execute_result",
          "data": {
            "text/plain": [
              "[11, 12, 22, 25, 64]"
            ]
          },
          "metadata": {
            "tags": []
          },
          "execution_count": 275
        }
      ]
    },
    {
      "cell_type": "code",
      "metadata": {
        "id": "ZpkSBY3G95Q4",
        "colab_type": "code",
        "outputId": "2ac0e237-1fb6-4f06-e5f5-9f4b29ffedab",
        "colab": {
          "base_uri": "https://localhost:8080/",
          "height": 53
        }
      },
      "source": [
        "ordered = bubble_sort(unordered.copy())\n",
        "print(unordered)\n",
        "ordered"
      ],
      "execution_count": 274,
      "outputs": [
        {
          "output_type": "stream",
          "text": [
            "[64, 25, 22, 12, 11]\n"
          ],
          "name": "stdout"
        },
        {
          "output_type": "execute_result",
          "data": {
            "text/plain": [
              "[11, 12, 22, 25, 64]"
            ]
          },
          "metadata": {
            "tags": []
          },
          "execution_count": 274
        }
      ]
    },
    {
      "cell_type": "code",
      "metadata": {
        "id": "7rSnLFay99Zo",
        "colab_type": "code",
        "outputId": "baa23c4f-b34f-4c77-fcd9-087d08a4bacd",
        "colab": {
          "base_uri": "https://localhost:8080/",
          "height": 53
        }
      },
      "source": [
        "ordered = insertion_sort(unordered.copy())\n",
        "print(unordered)\n",
        "ordered"
      ],
      "execution_count": 279,
      "outputs": [
        {
          "output_type": "stream",
          "text": [
            "[64, 25, 22, 12, 11]\n"
          ],
          "name": "stdout"
        },
        {
          "output_type": "execute_result",
          "data": {
            "text/plain": [
              "[11, 12, 22, 25, 64]"
            ]
          },
          "metadata": {
            "tags": []
          },
          "execution_count": 279
        }
      ]
    }
  ]
}